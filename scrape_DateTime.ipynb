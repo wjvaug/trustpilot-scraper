{
 "cells": [
  {
   "cell_type": "code",
   "execution_count": 1,
   "metadata": {},
   "outputs": [
    {
     "name": "stdout",
     "output_type": "stream",
     "text": [
      "Requirement already satisfied: lxml in /opt/anaconda3/lib/python3.8/site-packages (4.6.1)\n",
      "Note: you may need to restart the kernel to use updated packages.\n",
      "Requirement already satisfied: requests in /opt/anaconda3/lib/python3.8/site-packages (2.24.0)\n",
      "Requirement already satisfied: idna<3,>=2.5 in /opt/anaconda3/lib/python3.8/site-packages (from requests) (2.10)\n",
      "Requirement already satisfied: certifi>=2017.4.17 in /opt/anaconda3/lib/python3.8/site-packages (from requests) (2020.6.20)\n",
      "Requirement already satisfied: urllib3!=1.25.0,!=1.25.1,<1.26,>=1.21.1 in /opt/anaconda3/lib/python3.8/site-packages (from requests) (1.25.11)\n",
      "Requirement already satisfied: chardet<4,>=3.0.2 in /opt/anaconda3/lib/python3.8/site-packages (from requests) (3.0.4)\n",
      "Note: you may need to restart the kernel to use updated packages.\n"
     ]
    }
   ],
   "source": [
    "%pip install lxml\n",
    "%pip install requests"
   ]
  },
  {
   "cell_type": "code",
   "execution_count": 2,
   "metadata": {},
   "outputs": [],
   "source": [
    "### Trustpilot data scraping module \n",
    "### Author: Hakim Khalafi\n",
    "\n",
    "## Imports\n",
    "\n",
    "import math\n",
    "import csv\n",
    "import time\n",
    "import json\n",
    "import requests\n",
    "import lxml.html as html"
   ]
  },
  {
   "cell_type": "code",
   "execution_count": 3,
   "metadata": {},
   "outputs": [
    {
     "name": "stdout",
     "output_type": "stream",
     "text": [
      "Scraper set for https://uk.trustpilot.com/review/www.ocado.com - saving result to ocado_review_dates.csv\n"
     ]
    }
   ],
   "source": [
    "## Configurations\n",
    "\n",
    "# Trustpilot review page\n",
    "basePage = 'https://uk.trustpilot.com/review/'\n",
    "reviewSite = 'www.ocado.com'\n",
    "reviewPage = basePage + reviewSite\n",
    "\n",
    "# Data file to save to\n",
    "datafile = 'ocado_review_dates.csv'\n",
    "\n",
    "# Trustpilot default \n",
    "resultsPerPage = 20 \n",
    "\n",
    "print('Scraper set for ' + reviewPage + ' - saving result to ' + datafile)"
   ]
  },
  {
   "cell_type": "code",
   "execution_count": 4,
   "metadata": {},
   "outputs": [
    {
     "name": "stdout",
     "output_type": "stream",
     "text": [
      "Found total of 668 pages to scrape\n"
     ]
    }
   ],
   "source": [
    "## Count amount of pages to scrape\n",
    "\n",
    "# Get page, skipping HTTPS as it gives certificate errors\n",
    "page = requests.get(reviewPage)\n",
    "tree = html.fromstring(page.content)\n",
    "\n",
    "# Total amount of ratings\n",
    "ratingCount = tree.xpath('//span[@class=\"headline__review-count\"]')\n",
    "ratingCount = int(ratingCount[0].text.replace(',',''))\n",
    "\n",
    "# Amount of chunks to consider for displaying processing output \n",
    "# For ex. 10 means output progress for every 10th of the data\n",
    "tot_chunks = 20\n",
    "\n",
    "# Throttling to avoid spamming page with requests\n",
    "# With sleepTime seconds between every page request\n",
    "throttle = True\n",
    "sleepTime = 1\n",
    "\n",
    "# Total pages to scrape\n",
    "pages = math.ceil(ratingCount / resultsPerPage)\n",
    "print('Found total of ' + str(pages) + ' pages to scrape')"
   ]
  },
  {
   "cell_type": "code",
   "execution_count": 5,
   "metadata": {},
   "outputs": [
    {
     "name": "stdout",
     "output_type": "stream",
     "text": [
      "Processing..\n",
      "Processed 667/13351 ratings\n",
      "Processed 1334/13351 ratings\n",
      "Processed 2001/13351 ratings\n",
      "Processed 2668/13351 ratings\n",
      "Processed 3335/13351 ratings\n",
      "Processed 4002/13351 ratings\n",
      "Processed 4669/13351 ratings\n",
      "Processed 5336/13351 ratings\n",
      "Processed 6003/13351 ratings\n",
      "Processed 6670/13351 ratings\n",
      "Processed 7337/13351 ratings\n",
      "Processed 8004/13351 ratings\n",
      "Processed 8671/13351 ratings\n",
      "Processed 9338/13351 ratings\n",
      "Processed 10005/13351 ratings\n",
      "Processed 10672/13351 ratings\n",
      "Processed 11339/13351 ratings\n",
      "Processed 12006/13351 ratings\n",
      "Processed 13351/13351 ratings.. Finished!\n"
     ]
    }
   ],
   "source": [
    "## Main scraping section\n",
    "\n",
    "with open(datafile, 'w', newline='', encoding='utf8') as csvfile:\n",
    "    \n",
    "    # Tab delimited to allow for special characters\n",
    "    datawriter = csv.writer(csvfile, delimiter='\\t')\n",
    "    print('Processing..')\n",
    "   \n",
    "    pages = math.ceil(ratingCount / resultsPerPage)\n",
    "    page = requests.get(reviewPage)\n",
    "   \n",
    "    for i in range(1,pages+1):\n",
    "        \n",
    "        # Sleep if throttle enabled\n",
    "        if(throttle): time.sleep(sleepTime)\n",
    "        if(i==1): page = requests.get(reviewPage)\n",
    "        if(i>1): page = requests.get(next_page_url)\n",
    "        tree = html.fromstring(page.content)\n",
    "        \n",
    "        # Each item below scrapes a pages review date/time\n",
    "        script_bodies = tree.xpath(\"//script[starts-with(@data-initial-state, 'review-dates')]\")\n",
    "        for idx,elem in enumerate(script_bodies):\n",
    "            curr_item = json.loads(elem.text_content())\n",
    "\n",
    "            # Progress counting, outputs for every processed chunk\n",
    "            reviewNumber = idx + 20*(i-1) + 1\n",
    "            chunk = int(ratingCount / tot_chunks)\n",
    "            if(reviewNumber % chunk == 0): \n",
    "                print('Processed ' + str(reviewNumber) + '/'  + str(ratingCount) + ' ratings')\n",
    "            \n",
    "            date = curr_item[\"publishedDate\"]\n",
    "            \n",
    "            datawriter.writerow([date])\n",
    "        \n",
    "        next_page = tree.xpath(\"//a[contains(@class, 'next-page')]\")\n",
    "        base_url = \"https://uk.trustpilot.com\"\n",
    "        if next_page:\n",
    "            next_page_url = f\"{base_url}{next_page[0].get('href')}\"\n",
    "        page = next_page_url\n",
    "            \n",
    "    print('Processed ' + str(ratingCount) + '/' + str(ratingCount) + ' ratings.. Finished!')"
   ]
  }
 ],
 "metadata": {
  "kernelspec": {
   "display_name": "Python 3",
   "language": "python",
   "name": "python3"
  },
  "language_info": {
   "codemirror_mode": {
    "name": "ipython",
    "version": 3
   },
   "file_extension": ".py",
   "mimetype": "text/x-python",
   "name": "python",
   "nbconvert_exporter": "python",
   "pygments_lexer": "ipython3",
   "version": "3.8.5"
  }
 },
 "nbformat": 4,
 "nbformat_minor": 1
}
