{
 "cells": [
  {
   "cell_type": "code",
   "execution_count": 14,
   "metadata": {},
   "outputs": [
    {
     "name": "stdout",
     "output_type": "stream",
     "text": [
      "Requirement already satisfied: lxml in /opt/anaconda3/lib/python3.8/site-packages (4.6.1)\n",
      "Note: you may need to restart the kernel to use updated packages.\n",
      "Requirement already satisfied: requests in /opt/anaconda3/lib/python3.8/site-packages (2.24.0)\n",
      "Requirement already satisfied: idna<3,>=2.5 in /opt/anaconda3/lib/python3.8/site-packages (from requests) (2.10)\n",
      "Requirement already satisfied: chardet<4,>=3.0.2 in /opt/anaconda3/lib/python3.8/site-packages (from requests) (3.0.4)\n",
      "Requirement already satisfied: certifi>=2017.4.17 in /opt/anaconda3/lib/python3.8/site-packages (from requests) (2020.6.20)\n",
      "Requirement already satisfied: urllib3!=1.25.0,!=1.25.1,<1.26,>=1.21.1 in /opt/anaconda3/lib/python3.8/site-packages (from requests) (1.25.11)\n",
      "Note: you may need to restart the kernel to use updated packages.\n"
     ]
    }
   ],
   "source": [
    "%pip install lxml\n",
    "%pip install requests"
   ]
  },
  {
   "cell_type": "code",
   "execution_count": 16,
   "metadata": {},
   "outputs": [],
   "source": [
    "### Trustpilot data scraping module 2.0\n",
    "### Original Author: Hakim Khalafi\n",
    "### Updated to incorporate new Trustpilot page URL formats and include date data by Will Vaughan\n",
    "\n",
    "## Imports\n",
    "\n",
    "import math\n",
    "import csv\n",
    "import time\n",
    "import json\n",
    "import requests\n",
    "import lxml.html as html"
   ]
  },
  {
   "cell_type": "code",
   "execution_count": 17,
   "metadata": {},
   "outputs": [
    {
     "name": "stdout",
     "output_type": "stream",
     "text": [
      "Scraper set for https://uk.trustpilot.com/review/www.ocado.com - saving result to ocado_reviews.csv\n"
     ]
    }
   ],
   "source": [
    "## Configurations\n",
    "\n",
    "# Trustpilot review page\n",
    "basePage = 'https://uk.trustpilot.com/review/'\n",
    "reviewSite = 'www.ocado.com'\n",
    "reviewPage = basePage + reviewSite\n",
    "\n",
    "# Data file to save to\n",
    "datafile = 'ocado_reviews.csv'\n",
    "\n",
    "# Trustpilot default \n",
    "resultsPerPage = 20 \n",
    "\n",
    "print('Scraper set for ' + reviewPage + ' - saving result to ' + datafile)"
   ]
  },
  {
   "cell_type": "code",
   "execution_count": 18,
   "metadata": {},
   "outputs": [
    {
     "name": "stdout",
     "output_type": "stream",
     "text": [
      "Found total of 668 pages to scrape\n"
     ]
    },
    {
     "name": "stderr",
     "output_type": "stream",
     "text": [
      "/opt/anaconda3/lib/python3.8/site-packages/urllib3/connectionpool.py:981: InsecureRequestWarning: Unverified HTTPS request is being made to host 'uk.trustpilot.com'. Adding certificate verification is strongly advised. See: https://urllib3.readthedocs.io/en/latest/advanced-usage.html#ssl-warnings\n",
      "  warnings.warn(\n"
     ]
    }
   ],
   "source": [
    "## Count amount of pages to scrape\n",
    "\n",
    "# Get page, skipping HTTPS as it gives certificate errors\n",
    "page = requests.get(reviewPage, verify = False)\n",
    "tree = html.fromstring(page.content)\n",
    "\n",
    "# Total amount of ratings\n",
    "ratingCount = tree.xpath('//span[@class=\"headline__review-count\"]')\n",
    "ratingCount = int(ratingCount[0].text.replace(',',''))\n",
    "\n",
    "# Amount of chunks to consider for displaying processing output \n",
    "# For ex. 10 means output progress for every 10th of the data\n",
    "tot_chunks = 20\n",
    "\n",
    "# Throttling to avoid spamming page with requests\n",
    "# With sleepTime seconds between every page request\n",
    "throttle = True\n",
    "sleepTime = 1\n",
    "\n",
    "# Total pages to scrape\n",
    "pages = math.ceil(ratingCount / resultsPerPage)\n",
    "print('Found total of ' + str(pages) + ' pages to scrape')"
   ]
  },
  {
   "cell_type": "code",
   "execution_count": 19,
   "metadata": {},
   "outputs": [
    {
     "name": "stdout",
     "output_type": "stream",
     "text": [
      "https://uk.trustpilot.com/review/www.ocado.com?b=MTYxOTgwMTU4NDAwMHw2MDhjMzVmMGY5ZjQ4NzA1MTAzNGJjZTg\n"
     ]
    }
   ],
   "source": [
    "base_url = \"https://uk.trustpilot.com\"\n",
    "page = requests.get(reviewPage)\n",
    "tree = html.fromstring(page.content)\n",
    "\n",
    "next_page = tree.xpath(\"//a[contains(@class, 'next-page')]\")\n",
    "if next_page:\n",
    "    next_page_url = f\"{base_url}{next_page[0].get('href')}\"\n",
    "    print(next_page_url)\n",
    "\n",
    "\n",
    "\n",
    "            "
   ]
  },
  {
   "cell_type": "code",
   "execution_count": null,
   "metadata": {},
   "outputs": [],
   "source": []
  },
  {
   "cell_type": "code",
   "execution_count": null,
   "metadata": {},
   "outputs": [
    {
     "name": "stdout",
     "output_type": "stream",
     "text": [
      "Processing..\n",
      "Processed 667/13351 ratings\n",
      "Processed 1334/13351 ratings\n",
      "Processed 2001/13351 ratings\n",
      "Processed 2668/13351 ratings\n"
     ]
    }
   ],
   "source": [
    "## Main scraping section\n",
    "\n",
    "with open(datafile, 'w', newline='', encoding='utf8') as csvfile:\n",
    "    \n",
    "    # Tab delimited to allow for special characters\n",
    "    datawriter = csv.writer(csvfile, delimiter='\\t')\n",
    "    print('Processing..')\n",
    "   \n",
    "    pages = math.ceil(ratingCount / resultsPerPage)\n",
    "    page = requests.get(reviewPage)\n",
    "   \n",
    "    for i in range(1,pages+1):\n",
    "        \n",
    "        # Sleep if throttle enabled\n",
    "        if(throttle): time.sleep(sleepTime)\n",
    "        if(i==1): page = requests.get(reviewPage)\n",
    "        if(i>1): page = requests.get(next_page_url)\n",
    "        tree = html.fromstring(page.content)\n",
    "        \n",
    "        # Each item below scrapes a pages review titles, bodies and ratings\n",
    "        script_bodies = tree.xpath(\"//script[starts-with(@data-initial-state, 'review-info')]\")\n",
    "        for idx,elem in enumerate(script_bodies):\n",
    "            curr_item = json.loads(elem.text_content())\n",
    "\n",
    "            # Progress counting, outputs for every processed chunk\n",
    "            reviewNumber = idx + 20*(i-1) + 1\n",
    "            chunk = int(ratingCount / tot_chunks)\n",
    "            if(reviewNumber % chunk == 0): \n",
    "                print('Processed ' + str(reviewNumber) + '/'  + str(ratingCount) + ' ratings')\n",
    "            \n",
    "            title = curr_item[\"reviewHeader\"]\n",
    "            body = curr_item[\"reviewBody\"]\n",
    "            rating = curr_item[\"stars\"]\n",
    "            \n",
    "            datawriter.writerow([title,body,rating])\n",
    "        \n",
    "        next_page = tree.xpath(\"//a[contains(@class, 'next-page')]\")\n",
    "        base_url = \"https://uk.trustpilot.com\"\n",
    "        if next_page:\n",
    "            next_page_url = f\"{base_url}{next_page[0].get('href')}\"\n",
    "        page = next_page_url\n",
    "            \n",
    "    print('Processed ' + str(ratingCount) + '/' + str(ratingCount) + ' ratings.. Finished!')"
   ]
  },
  {
   "cell_type": "code",
   "execution_count": null,
   "metadata": {},
   "outputs": [],
   "source": []
  }
 ],
 "metadata": {
  "kernelspec": {
   "display_name": "Python 3",
   "language": "python",
   "name": "python3"
  },
  "language_info": {
   "codemirror_mode": {
    "name": "ipython",
    "version": 3
   },
   "file_extension": ".py",
   "mimetype": "text/x-python",
   "name": "python",
   "nbconvert_exporter": "python",
   "pygments_lexer": "ipython3",
   "version": "3.8.5"
  }
 },
 "nbformat": 4,
 "nbformat_minor": 1
}
